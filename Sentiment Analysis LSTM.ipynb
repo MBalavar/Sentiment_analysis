{
 "cells": [
  {
   "cell_type": "code",
   "execution_count": 1,
   "id": "98b4d4ae",
   "metadata": {},
   "outputs": [],
   "source": [
    "import numpy as np\n",
    "import pandas as pd\n",
    "import matplotlib.pyplot as plt\n",
    "from sklearn.model_selection import train_test_split\n",
    "import re\n",
    "import os\n",
    "from keras.models import Sequential , load_model\n",
    "from keras.layers import LSTM , Dense , Embedding , Dropout\n",
    "from keras.preprocessing.text import Tokenizer\n",
    "from keras.preprocessing.sequence import pad_sequences\n",
    "%matplotlib inline"
   ]
  },
  {
   "cell_type": "code",
   "execution_count": 2,
   "id": "a031085f",
   "metadata": {},
   "outputs": [
    {
     "data": {
      "text/html": [
       "<div>\n",
       "<style scoped>\n",
       "    .dataframe tbody tr th:only-of-type {\n",
       "        vertical-align: middle;\n",
       "    }\n",
       "\n",
       "    .dataframe tbody tr th {\n",
       "        vertical-align: top;\n",
       "    }\n",
       "\n",
       "    .dataframe thead th {\n",
       "        text-align: right;\n",
       "    }\n",
       "</style>\n",
       "<table border=\"1\" class=\"dataframe\">\n",
       "  <thead>\n",
       "    <tr style=\"text-align: right;\">\n",
       "      <th></th>\n",
       "      <th>tweet_id</th>\n",
       "      <th>airline_sentiment</th>\n",
       "      <th>airline_sentiment_confidence</th>\n",
       "      <th>negativereason</th>\n",
       "      <th>negativereason_confidence</th>\n",
       "      <th>airline</th>\n",
       "      <th>airline_sentiment_gold</th>\n",
       "      <th>name</th>\n",
       "      <th>negativereason_gold</th>\n",
       "      <th>retweet_count</th>\n",
       "      <th>text</th>\n",
       "      <th>tweet_coord</th>\n",
       "      <th>tweet_created</th>\n",
       "      <th>tweet_location</th>\n",
       "      <th>user_timezone</th>\n",
       "    </tr>\n",
       "  </thead>\n",
       "  <tbody>\n",
       "    <tr>\n",
       "      <th>0</th>\n",
       "      <td>569167658698067970</td>\n",
       "      <td>negative</td>\n",
       "      <td>1.0000</td>\n",
       "      <td>Flight Attendant Complaints</td>\n",
       "      <td>0.7004</td>\n",
       "      <td>US Airways</td>\n",
       "      <td>NaN</td>\n",
       "      <td>smash_tag</td>\n",
       "      <td>NaN</td>\n",
       "      <td>0</td>\n",
       "      <td>@USAirways \"Owen F\" at DCA Gate 42: #rude.</td>\n",
       "      <td>[38.85580899, -77.04174148]</td>\n",
       "      <td>2015-02-21 08:11:59 -0800</td>\n",
       "      <td>Buffalo, NY</td>\n",
       "      <td>Eastern Time (US &amp; Canada)</td>\n",
       "    </tr>\n",
       "    <tr>\n",
       "      <th>1</th>\n",
       "      <td>569920618843521024</td>\n",
       "      <td>negative</td>\n",
       "      <td>1.0000</td>\n",
       "      <td>Customer Service Issue</td>\n",
       "      <td>1.0000</td>\n",
       "      <td>American</td>\n",
       "      <td>NaN</td>\n",
       "      <td>ctj823</td>\n",
       "      <td>NaN</td>\n",
       "      <td>0</td>\n",
       "      <td>@AmericanAir How clueless is AA. Been waiting ...</td>\n",
       "      <td>NaN</td>\n",
       "      <td>2015-02-23 10:03:58 -0800</td>\n",
       "      <td>NaN</td>\n",
       "      <td>NaN</td>\n",
       "    </tr>\n",
       "    <tr>\n",
       "      <th>2</th>\n",
       "      <td>570053736950685696</td>\n",
       "      <td>positive</td>\n",
       "      <td>0.6594</td>\n",
       "      <td>NaN</td>\n",
       "      <td>NaN</td>\n",
       "      <td>Southwest</td>\n",
       "      <td>NaN</td>\n",
       "      <td>Q2wo</td>\n",
       "      <td>NaN</td>\n",
       "      <td>0</td>\n",
       "      <td>@SouthwestAir thanks!</td>\n",
       "      <td>NaN</td>\n",
       "      <td>2015-02-23 18:52:56 -0800</td>\n",
       "      <td>NaN</td>\n",
       "      <td>Pacific Time (US &amp; Canada)</td>\n",
       "    </tr>\n",
       "    <tr>\n",
       "      <th>3</th>\n",
       "      <td>569711632991047680</td>\n",
       "      <td>negative</td>\n",
       "      <td>1.0000</td>\n",
       "      <td>Late Flight</td>\n",
       "      <td>0.6772</td>\n",
       "      <td>United</td>\n",
       "      <td>NaN</td>\n",
       "      <td>scottychadwick</td>\n",
       "      <td>NaN</td>\n",
       "      <td>0</td>\n",
       "      <td>@united yea they been booked on 10 next avalib...</td>\n",
       "      <td>NaN</td>\n",
       "      <td>2015-02-22 20:13:32 -0800</td>\n",
       "      <td>NaN</td>\n",
       "      <td>Eastern Time (US &amp; Canada)</td>\n",
       "    </tr>\n",
       "    <tr>\n",
       "      <th>4</th>\n",
       "      <td>569681184898162689</td>\n",
       "      <td>negative</td>\n",
       "      <td>1.0000</td>\n",
       "      <td>Can't Tell</td>\n",
       "      <td>0.6742</td>\n",
       "      <td>Southwest</td>\n",
       "      <td>NaN</td>\n",
       "      <td>DobarNik</td>\n",
       "      <td>NaN</td>\n",
       "      <td>0</td>\n",
       "      <td>@SouthwestAir no you are not, you just care ab...</td>\n",
       "      <td>NaN</td>\n",
       "      <td>2015-02-22 18:12:33 -0800</td>\n",
       "      <td>NaN</td>\n",
       "      <td>NaN</td>\n",
       "    </tr>\n",
       "  </tbody>\n",
       "</table>\n",
       "</div>"
      ],
      "text/plain": [
       "             tweet_id airline_sentiment  airline_sentiment_confidence  \\\n",
       "0  569167658698067970          negative                        1.0000   \n",
       "1  569920618843521024          negative                        1.0000   \n",
       "2  570053736950685696          positive                        0.6594   \n",
       "3  569711632991047680          negative                        1.0000   \n",
       "4  569681184898162689          negative                        1.0000   \n",
       "\n",
       "                negativereason  negativereason_confidence     airline  \\\n",
       "0  Flight Attendant Complaints                     0.7004  US Airways   \n",
       "1       Customer Service Issue                     1.0000    American   \n",
       "2                          NaN                        NaN   Southwest   \n",
       "3                  Late Flight                     0.6772      United   \n",
       "4                   Can't Tell                     0.6742   Southwest   \n",
       "\n",
       "  airline_sentiment_gold            name negativereason_gold  retweet_count  \\\n",
       "0                    NaN       smash_tag                 NaN              0   \n",
       "1                    NaN          ctj823                 NaN              0   \n",
       "2                    NaN            Q2wo                 NaN              0   \n",
       "3                    NaN  scottychadwick                 NaN              0   \n",
       "4                    NaN        DobarNik                 NaN              0   \n",
       "\n",
       "                                                text  \\\n",
       "0         @USAirways \"Owen F\" at DCA Gate 42: #rude.   \n",
       "1  @AmericanAir How clueless is AA. Been waiting ...   \n",
       "2                              @SouthwestAir thanks!   \n",
       "3  @united yea they been booked on 10 next avalib...   \n",
       "4  @SouthwestAir no you are not, you just care ab...   \n",
       "\n",
       "                   tweet_coord              tweet_created tweet_location  \\\n",
       "0  [38.85580899, -77.04174148]  2015-02-21 08:11:59 -0800    Buffalo, NY   \n",
       "1                          NaN  2015-02-23 10:03:58 -0800            NaN   \n",
       "2                          NaN  2015-02-23 18:52:56 -0800            NaN   \n",
       "3                          NaN  2015-02-22 20:13:32 -0800            NaN   \n",
       "4                          NaN  2015-02-22 18:12:33 -0800            NaN   \n",
       "\n",
       "                user_timezone  \n",
       "0  Eastern Time (US & Canada)  \n",
       "1                         NaN  \n",
       "2  Pacific Time (US & Canada)  \n",
       "3  Eastern Time (US & Canada)  \n",
       "4                         NaN  "
      ]
     },
     "execution_count": 2,
     "metadata": {},
     "output_type": "execute_result"
    }
   ],
   "source": [
    "dataset = pd.read_csv(r'Tweets.csv')\n",
    "dataset = dataset.sample(frac=1).reset_index(drop=True)\n",
    "dataset.head()"
   ]
  },
  {
   "cell_type": "code",
   "execution_count": 3,
   "id": "fa17772b",
   "metadata": {},
   "outputs": [
    {
     "data": {
      "text/html": [
       "<div>\n",
       "<style scoped>\n",
       "    .dataframe tbody tr th:only-of-type {\n",
       "        vertical-align: middle;\n",
       "    }\n",
       "\n",
       "    .dataframe tbody tr th {\n",
       "        vertical-align: top;\n",
       "    }\n",
       "\n",
       "    .dataframe thead th {\n",
       "        text-align: right;\n",
       "    }\n",
       "</style>\n",
       "<table border=\"1\" class=\"dataframe\">\n",
       "  <thead>\n",
       "    <tr style=\"text-align: right;\">\n",
       "      <th></th>\n",
       "      <th>airline_sentiment</th>\n",
       "      <th>text</th>\n",
       "    </tr>\n",
       "  </thead>\n",
       "  <tbody>\n",
       "    <tr>\n",
       "      <th>0</th>\n",
       "      <td>negative</td>\n",
       "      <td>@USAirways \"Owen F\" at DCA Gate 42: #rude.</td>\n",
       "    </tr>\n",
       "    <tr>\n",
       "      <th>1</th>\n",
       "      <td>negative</td>\n",
       "      <td>@AmericanAir How clueless is AA. Been waiting ...</td>\n",
       "    </tr>\n",
       "    <tr>\n",
       "      <th>2</th>\n",
       "      <td>positive</td>\n",
       "      <td>@SouthwestAir thanks!</td>\n",
       "    </tr>\n",
       "    <tr>\n",
       "      <th>3</th>\n",
       "      <td>negative</td>\n",
       "      <td>@united yea they been booked on 10 next avalib...</td>\n",
       "    </tr>\n",
       "    <tr>\n",
       "      <th>4</th>\n",
       "      <td>negative</td>\n",
       "      <td>@SouthwestAir no you are not, you just care ab...</td>\n",
       "    </tr>\n",
       "  </tbody>\n",
       "</table>\n",
       "</div>"
      ],
      "text/plain": [
       "  airline_sentiment                                               text\n",
       "0          negative         @USAirways \"Owen F\" at DCA Gate 42: #rude.\n",
       "1          negative  @AmericanAir How clueless is AA. Been waiting ...\n",
       "2          positive                              @SouthwestAir thanks!\n",
       "3          negative  @united yea they been booked on 10 next avalib...\n",
       "4          negative  @SouthwestAir no you are not, you just care ab..."
      ]
     },
     "execution_count": 3,
     "metadata": {},
     "output_type": "execute_result"
    }
   ],
   "source": [
    "dataset = dataset[['airline_sentiment','text']]\n",
    "Newdataset = dataset\n",
    "dataset.head()"
   ]
  },
  {
   "cell_type": "code",
   "execution_count": 4,
   "id": "2eec5aae",
   "metadata": {},
   "outputs": [
    {
     "data": {
      "text/plain": [
       "14635    @AmericanAir would you like any additional det...\n",
       "14636    Just got off the phone @AmericanAir customer s...\n",
       "14637    @United flight 4465 almost half an hour at the...\n",
       "14638    .@SouthwestAir received an error online and ha...\n",
       "14639    @united Change made in just over 3 hours. For ...\n",
       "Name: text, dtype: object"
      ]
     },
     "execution_count": 4,
     "metadata": {},
     "output_type": "execute_result"
    }
   ],
   "source": [
    "dataset['text'].apply(lambda x: x.lower())\n",
    "\n",
    "dataset['text'].apply(lambda x: re.sub('[^a-zA-Z0-9\\s]',\"\",x))\n",
    "dataset['text'].tail()"
   ]
  },
  {
   "cell_type": "code",
   "execution_count": 5,
   "id": "7f11c2e9",
   "metadata": {
    "scrolled": true
   },
   "outputs": [
    {
     "data": {
      "text/plain": [
       "array([[   0,    0,    0,    0,    0,    0,    0,    0,    0,    0,    0,\n",
       "           0,    0,    0,    0,    0,    0,    0,    0,    0,    0,    0,\n",
       "           0,    0,    0,    0,    0,   12,  876,   28,  316,   82, 1759,\n",
       "         284],\n",
       "       [   0,    0,    0,    0,    0,    0,   13,   65, 4706,   14,  190,\n",
       "          50,  110,    1,  566,    7,   48,  139,  457,   84,    4,  268,\n",
       "          35,    4,   40,   85,    8,   59,   50,    9,   66,   42,    7,\n",
       "         960],\n",
       "       [   0,    0,    0,    0,    0,    0,    0,    0,    0,    0,    0,\n",
       "           0,    0,    0,    0,    0,    0,    0,    0,    0,    0,    0,\n",
       "           0,    0,    0,    0,    0,    0,    0,    0,    0,    0,   16,\n",
       "          39],\n",
       "       [   0,    0,    0,    0,    0,    0,    0,    0,    0,    0,    0,\n",
       "           5, 1656,   57,   50,  226,    9,  211,  179,   64,  230,  567,\n",
       "        1573,   10,   63,   51, 1850,   26,   67,  638,  121,   18,  175,\n",
       "         287],\n",
       "       [   0,    0,    0,    0,    0,    0,    0,    0,    0,    0,    0,\n",
       "           0,    0,    0,    0,    0,    0,    0,    0,    0,    0,    0,\n",
       "           0,    0,   16,   26,    6,   38,   24,    6,   44,  260,   84,\n",
       "        2294],\n",
       "       [   0,    0,    0,    0,    0,    0,    0,    0,    0,    0,    0,\n",
       "           0,    5,   24,  141,   65,  284,    2,   53,   45,   23,    1,\n",
       "          61,   90,    4,  312, 3197,  458,   34,   68,   11,  417,   90,\n",
       "        2295],\n",
       "       [   0,    0,    0,    0,    0,    0,    0,    0,    0,    0,    0,\n",
       "           0,    0,    0,    0,    0,    0,    0,    0,    0,    0,    0,\n",
       "           0,    0,    0,    0,    0,    0,   16,   27,   14,   70,    3,\n",
       "         162]], dtype=int32)"
      ]
     },
     "execution_count": 5,
     "metadata": {},
     "output_type": "execute_result"
    }
   ],
   "source": [
    "tokenizer = Tokenizer(num_words=5000, split=\" \")\n",
    "tokenizer.fit_on_texts(dataset['text'].values)\n",
    "\n",
    "X =tokenizer.texts_to_sequences(dataset['text'].values)\n",
    "X = pad_sequences(X)\n",
    "X[:7]\n",
    "# for word in tokenizer.word_index:\n",
    " #   print (word)"
   ]
  },
  {
   "cell_type": "code",
   "execution_count": 6,
   "id": "2ed3d79b",
   "metadata": {},
   "outputs": [
    {
     "data": {
      "text/plain": [
       "(14640, 34)"
      ]
     },
     "execution_count": 6,
     "metadata": {},
     "output_type": "execute_result"
    }
   ],
   "source": [
    "X.shape"
   ]
  },
  {
   "cell_type": "code",
   "execution_count": 7,
   "id": "fdd67369",
   "metadata": {},
   "outputs": [],
   "source": [
    "model = Sequential()\n",
    "model.add(Embedding(5000, 256 ,input_length = X.shape[1]))\n",
    "model.add(Dropout(0.3))\n",
    "model.add(LSTM(256 ,  return_sequences=True , dropout = 0.3 , recurrent_dropout = 0.2))\n",
    "model.add(LSTM(256 , dropout = 0.3 , recurrent_dropout = 0.2))\n",
    "model.add(Dense(3 , activation = 'softmax'))  # 3 because we have 3 output Negetive, Positive, Natural"
   ]
  },
  {
   "cell_type": "code",
   "execution_count": 8,
   "id": "eb12d2d6",
   "metadata": {},
   "outputs": [
    {
     "name": "stdout",
     "output_type": "stream",
     "text": [
      "Model: \"sequential\"\n",
      "_________________________________________________________________\n",
      " Layer (type)                Output Shape              Param #   \n",
      "=================================================================\n",
      " embedding (Embedding)       (None, 34, 256)           1280000   \n",
      "                                                                 \n",
      " dropout (Dropout)           (None, 34, 256)           0         \n",
      "                                                                 \n",
      " lstm (LSTM)                 (None, 34, 256)           525312    \n",
      "                                                                 \n",
      " lstm_1 (LSTM)               (None, 256)               525312    \n",
      "                                                                 \n",
      " dense (Dense)               (None, 3)                 771       \n",
      "                                                                 \n",
      "=================================================================\n",
      "Total params: 2331395 (8.89 MB)\n",
      "Trainable params: 2331395 (8.89 MB)\n",
      "Non-trainable params: 0 (0.00 Byte)\n",
      "_________________________________________________________________\n"
     ]
    }
   ],
   "source": [
    "model.compile(loss = 'categorical_crossentropy' , optimizer = 'adam', metrics = 'accuracy')\n",
    "model.summary()"
   ]
  },
  {
   "cell_type": "code",
   "execution_count": 9,
   "id": "fa007f13",
   "metadata": {},
   "outputs": [
    {
     "name": "stdout",
     "output_type": "stream",
     "text": [
      "negative [1 0 0]\n",
      "negative [1 0 0]\n",
      "positive [0 0 1]\n",
      "negative [1 0 0]\n",
      "negative [1 0 0]\n",
      "negative [1 0 0]\n",
      "positive [0 0 1]\n"
     ]
    },
    {
     "data": {
      "text/plain": [
       "[None, None, None, None, None, None, None]"
      ]
     },
     "execution_count": 9,
     "metadata": {},
     "output_type": "execute_result"
    }
   ],
   "source": [
    "y = pd.get_dummies(dataset['airline_sentiment']).values\n",
    "[print(dataset['airline_sentiment'][i], y[i]) for i in range(0,7)]"
   ]
  },
  {
   "cell_type": "code",
   "execution_count": 10,
   "id": "40bd23a2",
   "metadata": {},
   "outputs": [],
   "source": [
    "X_train , X_test , y_train , y_test = train_test_split(X,y , test_size = 0.2 , random_state =0)"
   ]
  },
  {
   "cell_type": "code",
   "execution_count": 11,
   "id": "0191da79",
   "metadata": {},
   "outputs": [
    {
     "name": "stdout",
     "output_type": "stream",
     "text": [
      "Epoch 1/10\n",
      "366/366 - 106s - loss: 0.6320 - accuracy: 0.7400 - 106s/epoch - 290ms/step\n",
      "Epoch 2/10\n",
      "366/366 - 105s - loss: 0.4204 - accuracy: 0.8415 - 105s/epoch - 288ms/step\n",
      "Epoch 3/10\n",
      "366/366 - 109s - loss: 0.3359 - accuracy: 0.8747 - 109s/epoch - 298ms/step\n",
      "Epoch 4/10\n",
      "366/366 - 108s - loss: 0.2746 - accuracy: 0.8966 - 108s/epoch - 296ms/step\n",
      "Epoch 5/10\n",
      "366/366 - 110s - loss: 0.2212 - accuracy: 0.9169 - 110s/epoch - 302ms/step\n",
      "Epoch 6/10\n",
      "366/366 - 106s - loss: 0.1869 - accuracy: 0.9311 - 106s/epoch - 288ms/step\n",
      "Epoch 7/10\n",
      "366/366 - 109s - loss: 0.1528 - accuracy: 0.9442 - 109s/epoch - 299ms/step\n",
      "Epoch 8/10\n",
      "366/366 - 106s - loss: 0.1309 - accuracy: 0.9548 - 106s/epoch - 291ms/step\n",
      "Epoch 9/10\n",
      "366/366 - 107s - loss: 0.1086 - accuracy: 0.9612 - 107s/epoch - 292ms/step\n",
      "Epoch 10/10\n",
      "366/366 - 108s - loss: 0.1044 - accuracy: 0.9631 - 108s/epoch - 296ms/step\n"
     ]
    },
    {
     "name": "stderr",
     "output_type": "stream",
     "text": [
      "/Users/momac/opt/miniconda3/lib/python3.9/site-packages/keras/src/engine/training.py:3000: UserWarning: You are saving your model as an HDF5 file via `model.save()`. This file format is considered legacy. We recommend using instead the native Keras format, e.g. `model.save('my_model.keras')`.\n",
      "  saving_api.save_model(\n"
     ]
    }
   ],
   "source": [
    "batch_size = 32\n",
    "epochs = 10\n",
    "if (not os.path.exists(r'./Model_Sentiment.h5')) :\n",
    "    res = model.fit(X_train,y_train , epochs = epochs , batch_size = batch_size , verbose = 2)  #verbose if we want to print output of result\n",
    "    model.save(r'./Model_Sentiment.h5')"
   ]
  },
  {
   "cell_type": "code",
   "execution_count": 12,
   "id": "77ed5b63",
   "metadata": {},
   "outputs": [],
   "source": [
    "model_res = load_model(r'.//Model_Sentiment.h5')"
   ]
  },
  {
   "cell_type": "code",
   "execution_count": 13,
   "id": "49766cee",
   "metadata": {},
   "outputs": [
    {
     "name": "stdout",
     "output_type": "stream",
     "text": [
      "loss: 0.238294, acc: 93.811476\n"
     ]
    }
   ],
   "source": [
    "loss, acc = model_res.evaluate(X, y, verbose=0)\n",
    "print( 'loss: %f, acc: %f' % (loss, acc*100))"
   ]
  },
  {
   "cell_type": "code",
   "execution_count": 14,
   "id": "5f6cebc1",
   "metadata": {
    "scrolled": true
   },
   "outputs": [
    {
     "name": "stdout",
     "output_type": "stream",
     "text": [
      "92/92 [==============================] - 6s 62ms/step\n",
      "@USAirways \"Owen F\" at DCA Gate 42: #rude. [0.7681248  0.22873592 0.00313932] [1 0 0]\n",
      "@AmericanAir How clueless is AA. Been waiting to hear for 2.5 weeks about a refund from a Cancelled Flightled flight &amp; been on hold now for 1hr 49min [0.59498936 0.39127475 0.01373592] [1 0 0]\n",
      "@SouthwestAir thanks! [0.13154447 0.36999533 0.49846023] [0 1 0]\n",
      "@united yea they been booked on 10 next avalible flights since sat 7am. And when time comes no plane 2nd day of work missed #hotelliving [9.9962258e-01 7.1517577e-05 3.0585178e-04] [1 0 0]\n",
      "@SouthwestAir no you are not, you just care about mighty dollar. [0.9441622  0.0524125  0.00342533] [0 1 0]\n",
      "@united not even mentioning how rude the customer service was to us. As a business owner, I'd be mortified if my employees acted as yours [9.9977666e-01 1.8758902e-04 3.5803016e-05] [1 0 0]\n",
      "@SouthwestAir Ahah😃💕🎵 That is why\n",
      "I love SW✈❗(^^)❤ [9.9995363e-01 3.3524160e-05 1.2903728e-05] [1 0 0]\n",
      "@united flight 3870 to Newark, stuck in the runway. About to miss my connection and they are just sorry for my inconvenience!!!!!! [8.6763809e-03 9.9081856e-01 5.0503534e-04] [0 1 0]\n",
      "@united Was just hung up on by customer service after waiting 30 min on hold...guess that vacation's not happening? Website wasn't working. [0.13077812 0.8513068  0.01791499] [0 1 0]\n"
     ]
    },
    {
     "data": {
      "text/plain": [
       "[None, None, None, None, None, None, None, None, None]"
      ]
     },
     "execution_count": 14,
     "metadata": {},
     "output_type": "execute_result"
    }
   ],
   "source": [
    "predictions = model.predict(X_test)\n",
    "\n",
    "[print(dataset['text'][i], predictions[i] , y_test[i]) for i in range(0,9)]"
   ]
  },
  {
   "cell_type": "code",
   "execution_count": 15,
   "id": "eaf81c39",
   "metadata": {},
   "outputs": [
    {
     "data": {
      "text/plain": [
       "(2928, 3)"
      ]
     },
     "execution_count": 15,
     "metadata": {},
     "output_type": "execute_result"
    }
   ],
   "source": [
    "predictions.shape"
   ]
  },
  {
   "cell_type": "code",
   "execution_count": 16,
   "id": "e119ce4f",
   "metadata": {},
   "outputs": [],
   "source": [
    "# A few random samples\n",
    "samples_to_predict = []\n",
    "newsamples = [\"@Thanks Mo, I am glad that I used your services\"]\n"
   ]
  },
  {
   "cell_type": "code",
   "execution_count": 17,
   "id": "e4d3b9b1",
   "metadata": {},
   "outputs": [
    {
     "data": {
      "text/plain": [
       "0    @Thanks Mo, I am glad that I used your services\n",
       "dtype: object"
      ]
     },
     "execution_count": 17,
     "metadata": {},
     "output_type": "execute_result"
    }
   ],
   "source": [
    "sample = pd.Series(data=newsamples)\n",
    "sample"
   ]
  },
  {
   "cell_type": "code",
   "execution_count": 18,
   "id": "e11c5572",
   "metadata": {},
   "outputs": [
    {
     "name": "stderr",
     "output_type": "stream",
     "text": [
      "/var/folders/d3/zvk6wsg54x58j_z582bf5bfc0000gn/T/ipykernel_37999/2958078984.py:2: FutureWarning: The series.append method is deprecated and will be removed from pandas in a future version. Use pandas.concat instead.\n",
      "  pd = Newdataset['text'].append(sample , ignore_index=True)\n"
     ]
    },
    {
     "data": {
      "text/plain": [
       "0               @USAirways \"Owen F\" at DCA Gate 42: #rude.\n",
       "1        @AmericanAir How clueless is AA. Been waiting ...\n",
       "2                                    @SouthwestAir thanks!\n",
       "3        @united yea they been booked on 10 next avalib...\n",
       "4        @SouthwestAir no you are not, you just care ab...\n",
       "                               ...                        \n",
       "14636    Just got off the phone @AmericanAir customer s...\n",
       "14637    @United flight 4465 almost half an hour at the...\n",
       "14638    .@SouthwestAir received an error online and ha...\n",
       "14639    @united Change made in just over 3 hours. For ...\n",
       "14640      @Thanks Mo, I am glad that I used your services\n",
       "Length: 14641, dtype: object"
      ]
     },
     "execution_count": 18,
     "metadata": {},
     "output_type": "execute_result"
    }
   ],
   "source": [
    "#sample = pd.Series(newsamples)\n",
    "pd = Newdataset['text'].append(sample , ignore_index=True)\n",
    "pd"
   ]
  },
  {
   "cell_type": "code",
   "execution_count": 19,
   "id": "7b0ceeb2",
   "metadata": {},
   "outputs": [
    {
     "data": {
      "text/plain": [
       "array(['@USAirways \"Owen F\" at DCA Gate 42: #rude.',\n",
       "       '@AmericanAir How clueless is AA. Been waiting to hear for 2.5 weeks about a refund from a Cancelled Flightled flight &amp; been on hold now for 1hr 49min',\n",
       "       '@SouthwestAir thanks!', ...,\n",
       "       '.@SouthwestAir received an error online and have been on hold for over 1.5 hours. Completely unacceptable.',\n",
       "       '@united Change made in just over 3 hours. For something that should have taken seconds online, I am not thrilled. Loved the agent, though.',\n",
       "       '@Thanks Mo, I am glad that I used your services'], dtype=object)"
      ]
     },
     "execution_count": 19,
     "metadata": {},
     "output_type": "execute_result"
    }
   ],
   "source": [
    "pd.apply(lambda x: x.lower())\n",
    "pd.apply(lambda x: re.sub('[^a-zA-Z0-9\\s]',\" \",x))\n",
    "Own= pd.values\n",
    "Own"
   ]
  },
  {
   "cell_type": "code",
   "execution_count": 20,
   "id": "ee941ca2",
   "metadata": {},
   "outputs": [
    {
     "data": {
      "text/plain": [
       "array([[   0,    0,    0, ...,   82, 1759,  284],\n",
       "       [   0,    0,    0, ...,   42,    7,  960],\n",
       "       [   0,    0,    0, ...,    0,   16,   39],\n",
       "       ...,\n",
       "       [   0,    0,    0, ...,   60,  783,  409],\n",
       "       [   0,    0,    0, ...,    2,  157,  381],\n",
       "       [   0,    0,    0, ...,  527,   21,  850]], dtype=int32)"
      ]
     },
     "execution_count": 20,
     "metadata": {},
     "output_type": "execute_result"
    }
   ],
   "source": [
    "tokenizer = Tokenizer(num_words=5000, split=\" \")\n",
    "tokenizer.fit_on_texts(Own)\n",
    "\n",
    "X =tokenizer.texts_to_sequences(Own)\n",
    "X = pad_sequences(X)\n",
    "#NewData = X[-1]\n",
    "X"
   ]
  },
  {
   "cell_type": "code",
   "execution_count": 21,
   "id": "8fe42cd4",
   "metadata": {},
   "outputs": [],
   "source": [
    "NewData = X[-1].reshape(1,34)"
   ]
  },
  {
   "cell_type": "code",
   "execution_count": 22,
   "id": "d5bce59b",
   "metadata": {},
   "outputs": [
    {
     "data": {
      "text/plain": [
       "array([[  0,   0,   0,   0,   0,   0,   0,   0,   0,   0,   0,   0,   0,\n",
       "          0,   0,   0,   0,   0,   0,   0,   0,   0,   0,   0,   0,  39,\n",
       "          3,  96, 611,  27,   3, 527,  21, 850]], dtype=int32)"
      ]
     },
     "execution_count": 22,
     "metadata": {},
     "output_type": "execute_result"
    }
   ],
   "source": [
    "NewData"
   ]
  },
  {
   "cell_type": "code",
   "execution_count": 23,
   "id": "0a3cff01",
   "metadata": {},
   "outputs": [
    {
     "name": "stdout",
     "output_type": "stream",
     "text": [
      "1/1 [==============================] - 0s 23ms/step\n",
      "[[0.03900107 0.05238442 0.9086145 ]]\n"
     ]
    }
   ],
   "source": [
    "prediction = model.predict(NewData)\n",
    "print(prediction) "
   ]
  },
  {
   "cell_type": "code",
   "execution_count": 24,
   "id": "0c15de97",
   "metadata": {},
   "outputs": [
    {
     "data": {
      "text/plain": [
       "(1, 3)"
      ]
     },
     "execution_count": 24,
     "metadata": {},
     "output_type": "execute_result"
    }
   ],
   "source": [
    "prediction.shape"
   ]
  },
  {
   "cell_type": "code",
   "execution_count": null,
   "id": "b3d947f4",
   "metadata": {},
   "outputs": [],
   "source": []
  }
 ],
 "metadata": {
  "kernelspec": {
   "display_name": "Python 3 (ipykernel)",
   "language": "python",
   "name": "python3"
  },
  "language_info": {
   "codemirror_mode": {
    "name": "ipython",
    "version": 3
   },
   "file_extension": ".py",
   "mimetype": "text/x-python",
   "name": "python",
   "nbconvert_exporter": "python",
   "pygments_lexer": "ipython3",
   "version": "3.9.12"
  }
 },
 "nbformat": 4,
 "nbformat_minor": 5
}
